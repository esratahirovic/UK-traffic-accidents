{
 "cells": [
  {
   "cell_type": "code",
   "execution_count": 26,
   "id": "ac4004de",
   "metadata": {},
   "outputs": [],
   "source": [
    "import numpy as np\n",
    "import pandas as pd\n",
    "import matplotlib.pyplot as plt\n",
    "import seaborn as sns"
   ]
  },
  {
   "cell_type": "code",
   "execution_count": 9,
   "id": "ca7c38e0",
   "metadata": {},
   "outputs": [],
   "source": [
    "data1 = pd.read_csv(\"accidents_2005_to_2007.csv\")\n",
    "data2 = pd.read_csv(\"accidents_2009_to_2011.csv\")\n",
    "data3 = pd.read_csv(\"accidents_2012_to_2014.csv\")\n",
    "data = pd.concat([data1,data2,data3], axis = 0)"
   ]
  },
  {
   "cell_type": "code",
   "execution_count": 12,
   "id": "4f3e32d4",
   "metadata": {},
   "outputs": [
    {
     "data": {
      "text/plain": [
       "(1504150, 33)"
      ]
     },
     "execution_count": 12,
     "metadata": {},
     "output_type": "execute_result"
    }
   ],
   "source": [
    "data.shape"
   ]
  },
  {
   "cell_type": "code",
   "execution_count": 13,
   "id": "b7913db5",
   "metadata": {},
   "outputs": [
    {
     "data": {
      "text/plain": [
       "Accident_Index                                       0\n",
       "Location_Easting_OSGR                              101\n",
       "Location_Northing_OSGR                             101\n",
       "Longitude                                          101\n",
       "Latitude                                           101\n",
       "Police_Force                                         0\n",
       "Accident_Severity                                    0\n",
       "Number_of_Vehicles                                   0\n",
       "Number_of_Casualties                                 0\n",
       "Date                                                 0\n",
       "Day_of_Week                                          0\n",
       "Time                                               117\n",
       "Local_Authority_(District)                           0\n",
       "Local_Authority_(Highway)                            0\n",
       "1st_Road_Class                                       0\n",
       "1st_Road_Number                                      0\n",
       "Road_Type                                            0\n",
       "Speed_limit                                          0\n",
       "Junction_Detail                                1504150\n",
       "Junction_Control                                602835\n",
       "2nd_Road_Class                                       0\n",
       "2nd_Road_Number                                      0\n",
       "Pedestrian_Crossing-Human_Control                   17\n",
       "Pedestrian_Crossing-Physical_Facilities             34\n",
       "Light_Conditions                                     0\n",
       "Weather_Conditions                                 126\n",
       "Road_Surface_Conditions                           1958\n",
       "Special_Conditions_at_Site                          15\n",
       "Carriageway_Hazards                                 29\n",
       "Urban_or_Rural_Area                                  0\n",
       "Did_Police_Officer_Attend_Scene_of_Accident       2922\n",
       "LSOA_of_Accident_Location                       108238\n",
       "Year                                                 0\n",
       "dtype: int64"
      ]
     },
     "execution_count": 13,
     "metadata": {},
     "output_type": "execute_result"
    }
   ],
   "source": [
    "data.isnull().sum()"
   ]
  },
  {
   "cell_type": "code",
   "execution_count": 14,
   "id": "9ea4f857",
   "metadata": {},
   "outputs": [
    {
     "name": "stdout",
     "output_type": "stream",
     "text": [
      "<class 'pandas.core.frame.DataFrame'>\n",
      "Int64Index: 1504150 entries, 0 to 464696\n",
      "Data columns (total 33 columns):\n",
      " #   Column                                       Non-Null Count    Dtype  \n",
      "---  ------                                       --------------    -----  \n",
      " 0   Accident_Index                               1504150 non-null  object \n",
      " 1   Location_Easting_OSGR                        1504049 non-null  float64\n",
      " 2   Location_Northing_OSGR                       1504049 non-null  float64\n",
      " 3   Longitude                                    1504049 non-null  float64\n",
      " 4   Latitude                                     1504049 non-null  float64\n",
      " 5   Police_Force                                 1504150 non-null  int64  \n",
      " 6   Accident_Severity                            1504150 non-null  int64  \n",
      " 7   Number_of_Vehicles                           1504150 non-null  int64  \n",
      " 8   Number_of_Casualties                         1504150 non-null  int64  \n",
      " 9   Date                                         1504150 non-null  object \n",
      " 10  Day_of_Week                                  1504150 non-null  int64  \n",
      " 11  Time                                         1504033 non-null  object \n",
      " 12  Local_Authority_(District)                   1504150 non-null  int64  \n",
      " 13  Local_Authority_(Highway)                    1504150 non-null  object \n",
      " 14  1st_Road_Class                               1504150 non-null  int64  \n",
      " 15  1st_Road_Number                              1504150 non-null  int64  \n",
      " 16  Road_Type                                    1504150 non-null  object \n",
      " 17  Speed_limit                                  1504150 non-null  int64  \n",
      " 18  Junction_Detail                              0 non-null        float64\n",
      " 19  Junction_Control                             901315 non-null   object \n",
      " 20  2nd_Road_Class                               1504150 non-null  int64  \n",
      " 21  2nd_Road_Number                              1504150 non-null  int64  \n",
      " 22  Pedestrian_Crossing-Human_Control            1504133 non-null  object \n",
      " 23  Pedestrian_Crossing-Physical_Facilities      1504116 non-null  object \n",
      " 24  Light_Conditions                             1504150 non-null  object \n",
      " 25  Weather_Conditions                           1504024 non-null  object \n",
      " 26  Road_Surface_Conditions                      1502192 non-null  object \n",
      " 27  Special_Conditions_at_Site                   1504135 non-null  object \n",
      " 28  Carriageway_Hazards                          1504121 non-null  object \n",
      " 29  Urban_or_Rural_Area                          1504150 non-null  int64  \n",
      " 30  Did_Police_Officer_Attend_Scene_of_Accident  1501228 non-null  object \n",
      " 31  LSOA_of_Accident_Location                    1395912 non-null  object \n",
      " 32  Year                                         1504150 non-null  int64  \n",
      "dtypes: float64(5), int64(13), object(15)\n",
      "memory usage: 390.2+ MB\n"
     ]
    }
   ],
   "source": [
    "data.info()"
   ]
  },
  {
   "cell_type": "code",
   "execution_count": 16,
   "id": "d37b8275",
   "metadata": {},
   "outputs": [],
   "source": [
    "df = data.drop(['Accident_Index', 'Location_Easting_OSGR', 'Location_Northing_OSGR','Longitude',\n",
    "       'Latitude', 'Police_Force','Date','Local_Authority_(District)','Local_Authority_(Highway)',\n",
    "       '1st_Road_Class', '1st_Road_Number', 'Speed_limit','Junction_Detail', 'Junction_Control', '2nd_Road_Class',\n",
    "       '2nd_Road_Number', 'Pedestrian_Crossing-Human_Control', 'Pedestrian_Crossing-Physical_Facilities', \n",
    "       'Special_Conditions_at_Site', 'Carriageway_Hazards','Did_Police_Officer_Attend_Scene_of_Accident',\n",
    "       'LSOA_of_Accident_Location'], axis=1)"
   ]
  },
  {
   "cell_type": "code",
   "execution_count": 17,
   "id": "04862ca6",
   "metadata": {},
   "outputs": [
    {
     "data": {
      "text/html": [
       "<div>\n",
       "<style scoped>\n",
       "    .dataframe tbody tr th:only-of-type {\n",
       "        vertical-align: middle;\n",
       "    }\n",
       "\n",
       "    .dataframe tbody tr th {\n",
       "        vertical-align: top;\n",
       "    }\n",
       "\n",
       "    .dataframe thead th {\n",
       "        text-align: right;\n",
       "    }\n",
       "</style>\n",
       "<table border=\"1\" class=\"dataframe\">\n",
       "  <thead>\n",
       "    <tr style=\"text-align: right;\">\n",
       "      <th></th>\n",
       "      <th>Accident_Severity</th>\n",
       "      <th>Number_of_Vehicles</th>\n",
       "      <th>Number_of_Casualties</th>\n",
       "      <th>Day_of_Week</th>\n",
       "      <th>Time</th>\n",
       "      <th>Road_Type</th>\n",
       "      <th>Light_Conditions</th>\n",
       "      <th>Weather_Conditions</th>\n",
       "      <th>Road_Surface_Conditions</th>\n",
       "      <th>Urban_or_Rural_Area</th>\n",
       "      <th>Year</th>\n",
       "    </tr>\n",
       "  </thead>\n",
       "  <tbody>\n",
       "    <tr>\n",
       "      <th>0</th>\n",
       "      <td>2</td>\n",
       "      <td>1</td>\n",
       "      <td>1</td>\n",
       "      <td>3</td>\n",
       "      <td>17:42</td>\n",
       "      <td>Single carriageway</td>\n",
       "      <td>Daylight: Street light present</td>\n",
       "      <td>Raining without high winds</td>\n",
       "      <td>Wet/Damp</td>\n",
       "      <td>1</td>\n",
       "      <td>2005</td>\n",
       "    </tr>\n",
       "    <tr>\n",
       "      <th>1</th>\n",
       "      <td>3</td>\n",
       "      <td>1</td>\n",
       "      <td>1</td>\n",
       "      <td>4</td>\n",
       "      <td>17:36</td>\n",
       "      <td>Dual carriageway</td>\n",
       "      <td>Darkness: Street lights present and lit</td>\n",
       "      <td>Fine without high winds</td>\n",
       "      <td>Dry</td>\n",
       "      <td>1</td>\n",
       "      <td>2005</td>\n",
       "    </tr>\n",
       "    <tr>\n",
       "      <th>2</th>\n",
       "      <td>3</td>\n",
       "      <td>2</td>\n",
       "      <td>1</td>\n",
       "      <td>5</td>\n",
       "      <td>00:15</td>\n",
       "      <td>Single carriageway</td>\n",
       "      <td>Darkness: Street lights present and lit</td>\n",
       "      <td>Fine without high winds</td>\n",
       "      <td>Dry</td>\n",
       "      <td>1</td>\n",
       "      <td>2005</td>\n",
       "    </tr>\n",
       "    <tr>\n",
       "      <th>3</th>\n",
       "      <td>3</td>\n",
       "      <td>1</td>\n",
       "      <td>1</td>\n",
       "      <td>6</td>\n",
       "      <td>10:35</td>\n",
       "      <td>Single carriageway</td>\n",
       "      <td>Daylight: Street light present</td>\n",
       "      <td>Fine without high winds</td>\n",
       "      <td>Dry</td>\n",
       "      <td>1</td>\n",
       "      <td>2005</td>\n",
       "    </tr>\n",
       "    <tr>\n",
       "      <th>4</th>\n",
       "      <td>3</td>\n",
       "      <td>1</td>\n",
       "      <td>1</td>\n",
       "      <td>2</td>\n",
       "      <td>21:13</td>\n",
       "      <td>Single carriageway</td>\n",
       "      <td>Darkness: Street lighting unknown</td>\n",
       "      <td>Fine without high winds</td>\n",
       "      <td>Wet/Damp</td>\n",
       "      <td>1</td>\n",
       "      <td>2005</td>\n",
       "    </tr>\n",
       "  </tbody>\n",
       "</table>\n",
       "</div>"
      ],
      "text/plain": [
       "   Accident_Severity  Number_of_Vehicles  Number_of_Casualties  Day_of_Week  \\\n",
       "0                  2                   1                     1            3   \n",
       "1                  3                   1                     1            4   \n",
       "2                  3                   2                     1            5   \n",
       "3                  3                   1                     1            6   \n",
       "4                  3                   1                     1            2   \n",
       "\n",
       "    Time           Road_Type                         Light_Conditions  \\\n",
       "0  17:42  Single carriageway           Daylight: Street light present   \n",
       "1  17:36    Dual carriageway  Darkness: Street lights present and lit   \n",
       "2  00:15  Single carriageway  Darkness: Street lights present and lit   \n",
       "3  10:35  Single carriageway           Daylight: Street light present   \n",
       "4  21:13  Single carriageway        Darkness: Street lighting unknown   \n",
       "\n",
       "           Weather_Conditions Road_Surface_Conditions  Urban_or_Rural_Area  \\\n",
       "0  Raining without high winds                Wet/Damp                    1   \n",
       "1     Fine without high winds                     Dry                    1   \n",
       "2     Fine without high winds                     Dry                    1   \n",
       "3     Fine without high winds                     Dry                    1   \n",
       "4     Fine without high winds                Wet/Damp                    1   \n",
       "\n",
       "   Year  \n",
       "0  2005  \n",
       "1  2005  \n",
       "2  2005  \n",
       "3  2005  \n",
       "4  2005  "
      ]
     },
     "execution_count": 17,
     "metadata": {},
     "output_type": "execute_result"
    }
   ],
   "source": [
    "df.head()"
   ]
  },
  {
   "cell_type": "code",
   "execution_count": 18,
   "id": "acbae962",
   "metadata": {},
   "outputs": [
    {
     "data": {
      "text/plain": [
       "Accident_Severity             0\n",
       "Number_of_Vehicles            0\n",
       "Number_of_Casualties          0\n",
       "Day_of_Week                   0\n",
       "Time                        117\n",
       "Road_Type                     0\n",
       "Light_Conditions              0\n",
       "Weather_Conditions          126\n",
       "Road_Surface_Conditions    1958\n",
       "Urban_or_Rural_Area           0\n",
       "Year                          0\n",
       "dtype: int64"
      ]
     },
     "execution_count": 18,
     "metadata": {},
     "output_type": "execute_result"
    }
   ],
   "source": [
    "df.isnull().sum()"
   ]
  },
  {
   "cell_type": "code",
   "execution_count": 19,
   "id": "83df88be",
   "metadata": {},
   "outputs": [
    {
     "data": {
      "text/plain": [
       "Accident_Severity          0\n",
       "Number_of_Vehicles         0\n",
       "Number_of_Casualties       0\n",
       "Day_of_Week                0\n",
       "Time                       0\n",
       "Road_Type                  0\n",
       "Light_Conditions           0\n",
       "Weather_Conditions         0\n",
       "Road_Surface_Conditions    0\n",
       "Urban_or_Rural_Area        0\n",
       "Year                       0\n",
       "dtype: int64"
      ]
     },
     "execution_count": 19,
     "metadata": {},
     "output_type": "execute_result"
    }
   ],
   "source": [
    "df = df.dropna()\n",
    "df.isnull().sum()"
   ]
  },
  {
   "cell_type": "markdown",
   "id": "b7867d50",
   "metadata": {},
   "source": [
    "### Number of accidents by years"
   ]
  },
  {
   "cell_type": "code",
   "execution_count": 21,
   "id": "0ef304ea",
   "metadata": {},
   "outputs": [],
   "source": [
    "year = df[\"Year\"].value_counts()"
   ]
  },
  {
   "cell_type": "code",
   "execution_count": 35,
   "id": "1b4aee0c",
   "metadata": {},
   "outputs": [
    {
     "data": {
      "text/plain": [
       "array([2005, 2006, 2007, 2009, 2010, 2011, 2012, 2013, 2014])"
      ]
     },
     "execution_count": 35,
     "metadata": {},
     "output_type": "execute_result"
    }
   ],
   "source": [
    "years = df[\"Year\"].unique()\n",
    "ny = year.values\n",
    "years"
   ]
  },
  {
   "cell_type": "code",
   "execution_count": 36,
   "id": "6d94df49",
   "metadata": {},
   "outputs": [
    {
     "data": {
      "text/plain": [
       "array([3, 4, 5, 6, 2, 7, 1])"
      ]
     },
     "execution_count": 36,
     "metadata": {},
     "output_type": "execute_result"
    }
   ],
   "source": [
    "week = df[\"Day_of_Week\"].value_counts()\n",
    "weeks = df[\"Day_of_Week\"].unique()\n",
    "nw = week.values\n",
    "weeks\n"
   ]
  },
  {
   "cell_type": "code",
   "execution_count": 45,
   "id": "ed54fc5e",
   "metadata": {},
   "outputs": [
    {
     "data": {
      "image/png": "[encoded data removed]",
      "text/plain": [
       "<Figure size 1300x500 with 2 Axes>"
      ]
     },
     "metadata": {},
     "output_type": "display_data"
    }
   ],
   "source": [
    "plt.figure(figsize = (13,5))\n",
    "\n",
    "plt.subplot(1,2,1)\n",
    "\n",
    "sns.barplot(x=years, y=ny)\n",
    "plt.xlabel(\"Years\")\n",
    "plt.ylabel(\"Number of Accidents\")\n",
    "plt.title(\"Number of Accidents By Years\")\n",
    "\n",
    "plt.subplot(1,2,2)\n",
    "\n",
    "sns.barplot(x=weeks, y=nw)\n",
    "plt.xlabel(\"Weekdays\")\n",
    "plt.ylabel(\"Number of Accidents\")\n",
    "plt.title(\"Number of Accidents By Weekdays\")\n",
    "\n",
    "plt.show()"
   ]
  },
  {
   "cell_type": "markdown",
   "id": "c3869214",
   "metadata": {},
   "source": [
    "### Road types effect"
   ]
  },
  {
   "cell_type": "code",
   "execution_count": 59,
   "id": "dd731cfa",
   "metadata": {},
   "outputs": [
    {
     "data": {
      "text/plain": [
       "Single carriageway    1125286\n",
       "Dual carriageway       221547\n",
       "Roundabout             100237\n",
       "One way street          30914\n",
       "Slip road               15651\n",
       "Unknown                  8322\n",
       "Name: Road_Type, dtype: int64"
      ]
     },
     "execution_count": 59,
     "metadata": {},
     "output_type": "execute_result"
    }
   ],
   "source": [
    "rd = df[\"Road_Type\"].value_counts()\n",
    "rds = df[\"Road_Type\"].unique()\n",
    "count_rd=rd.values\n",
    "rd"
   ]
  },
  {
   "cell_type": "code",
   "execution_count": 60,
   "id": "6ca3bb4f",
   "metadata": {},
   "outputs": [
    {
     "data": {
      "text/plain": [
       "array([1125286,  221547,  100237,   30914,   15651,    8322])"
      ]
     },
     "execution_count": 60,
     "metadata": {},
     "output_type": "execute_result"
    }
   ],
   "source": [
    "count_rd"
   ]
  },
  {
   "cell_type": "code",
   "execution_count": 74,
   "id": "577e6d14",
   "metadata": {},
   "outputs": [
    {
     "data": {
      "text/plain": [
       "Text(0.5, 1.0, 'Road Type effects on Accidents')"
      ]
     },
     "execution_count": 74,
     "metadata": {},
     "output_type": "execute_result"
    },
    {
     "data": {
      "image/png": "[encoded data removed]",
      "text/plain": [
       "<Figure size 1500x1500 with 1 Axes>"
      ]
     },
     "metadata": {},
     "output_type": "display_data"
    }
   ],
   "source": [
    "plt.figure(figsize=(15,15))\n",
    "plt.subplot(1,2,1)\n",
    "plt.pie(count_rd, labels=rds,autopct='%1.1f%%',textprops={\"size\": \"small\"})\n",
    "plt.legend(loc =\"upper right\")\n",
    "plt.title(\"Road Type effects on Accidents\")"
   ]
  },
  {
   "cell_type": "markdown",
   "id": "40fa71c3",
   "metadata": {},
   "source": [
    "### Light Conditions & Weather Conditions\n"
   ]
  },
  {
   "cell_type": "code",
   "execution_count": 76,
   "id": "3501ab16",
   "metadata": {},
   "outputs": [],
   "source": [
    "lc = df[\"Light_Conditions\"].value_counts()\n",
    "lcs = df[\"Light_Conditions\"].unique()\n",
    "count_lc = lc.values"
   ]
  },
  {
   "cell_type": "code",
   "execution_count": 100,
   "id": "380f4b51",
   "metadata": {},
   "outputs": [
    {
     "data": {
      "text/plain": [
       "Daylight: Street light present               1100645\n",
       "Darkness: Street lights present and lit       295948\n",
       "Darkeness: No street lighting                  82479\n",
       "Darkness: Street lighting unknown              15984\n",
       "Darkness: Street lights present but unlit       6901\n",
       "Name: Light_Conditions, dtype: int64"
      ]
     },
     "execution_count": 100,
     "metadata": {},
     "output_type": "execute_result"
    }
   ],
   "source": [
    "lc\n"
   ]
  },
  {
   "cell_type": "code",
   "execution_count": 95,
   "id": "8a66fa8f",
   "metadata": {},
   "outputs": [],
   "source": [
    "wc = df[\"Weather_Conditions\"].value_counts()\n",
    "wcs = df[\"Weather_Conditions\"].unique()\n",
    "count_wc = wc.values"
   ]
  },
  {
   "cell_type": "code",
   "execution_count": 125,
   "id": "1afc6be0",
   "metadata": {},
   "outputs": [
    {
     "data": {
      "text/plain": [
       "array([1203503,  177639,   33437,   26777,   20810,   18347,   11300,\n",
       "          8184,    1960])"
      ]
     },
     "execution_count": 125,
     "metadata": {},
     "output_type": "execute_result"
    }
   ],
   "source": [
    "count_wc"
   ]
  },
  {
   "cell_type": "code",
   "execution_count": 134,
   "id": "96d27795",
   "metadata": {
    "scrolled": false
   },
   "outputs": [
    {
     "data": {
      "image/png": "[encoded data removed]",
      "text/plain": [
       "<Figure size 800x500 with 1 Axes>"
      ]
     },
     "metadata": {},
     "output_type": "display_data"
    }
   ],
   "source": [
    "plt.figure(figsize=(8,5))\n",
    "plt.subplot(1,2,1)\n",
    "plt.scatter(count_lc,lcs, label=\"Light Conditions\", marker='^')\n",
    "plt.xlabel(\"Number of Accidents\")\n",
    "plt.ylabel(\"Light Conditions & Weather Conditions\")\n",
    "plt.scatter(count_wc,wcs, label=\"Weather Conditions\", color='r', marker='o')\n",
    "plt.legend()\n",
    "plt.show()"
   ]
  },
  {
   "cell_type": "code",
   "execution_count": 147,
   "id": "f1361bbb",
   "metadata": {},
   "outputs": [
    {
     "data": {
      "text/html": [
       "<div>\n",
       "<style scoped>\n",
       "    .dataframe tbody tr th:only-of-type {\n",
       "        vertical-align: middle;\n",
       "    }\n",
       "\n",
       "    .dataframe tbody tr th {\n",
       "        vertical-align: top;\n",
       "    }\n",
       "\n",
       "    .dataframe thead th {\n",
       "        text-align: right;\n",
       "    }\n",
       "</style>\n",
       "<table border=\"1\" class=\"dataframe\">\n",
       "  <thead>\n",
       "    <tr style=\"text-align: right;\">\n",
       "      <th></th>\n",
       "      <th>Accident_Severity</th>\n",
       "      <th>Number_of_Vehicles</th>\n",
       "      <th>Number_of_Casualties</th>\n",
       "      <th>Day_of_Week</th>\n",
       "      <th>Time</th>\n",
       "      <th>Road_Type</th>\n",
       "      <th>Light_Conditions</th>\n",
       "      <th>Weather_Conditions</th>\n",
       "      <th>Road_Surface_Conditions</th>\n",
       "      <th>Urban_or_Rural_Area</th>\n",
       "      <th>Year</th>\n",
       "    </tr>\n",
       "  </thead>\n",
       "  <tbody>\n",
       "    <tr>\n",
       "      <th>0</th>\n",
       "      <td>2</td>\n",
       "      <td>1</td>\n",
       "      <td>1</td>\n",
       "      <td>3</td>\n",
       "      <td>17:42</td>\n",
       "      <td>Single carriageway</td>\n",
       "      <td>Daylight: Street light present</td>\n",
       "      <td>Raining without high winds</td>\n",
       "      <td>Wet/Damp</td>\n",
       "      <td>1</td>\n",
       "      <td>2005</td>\n",
       "    </tr>\n",
       "    <tr>\n",
       "      <th>1</th>\n",
       "      <td>3</td>\n",
       "      <td>1</td>\n",
       "      <td>1</td>\n",
       "      <td>4</td>\n",
       "      <td>17:36</td>\n",
       "      <td>Dual carriageway</td>\n",
       "      <td>Darkness: Street lights present and lit</td>\n",
       "      <td>Fine without high winds</td>\n",
       "      <td>Dry</td>\n",
       "      <td>1</td>\n",
       "      <td>2005</td>\n",
       "    </tr>\n",
       "    <tr>\n",
       "      <th>2</th>\n",
       "      <td>3</td>\n",
       "      <td>2</td>\n",
       "      <td>1</td>\n",
       "      <td>5</td>\n",
       "      <td>00:15</td>\n",
       "      <td>Single carriageway</td>\n",
       "      <td>Darkness: Street lights present and lit</td>\n",
       "      <td>Fine without high winds</td>\n",
       "      <td>Dry</td>\n",
       "      <td>1</td>\n",
       "      <td>2005</td>\n",
       "    </tr>\n",
       "    <tr>\n",
       "      <th>3</th>\n",
       "      <td>3</td>\n",
       "      <td>1</td>\n",
       "      <td>1</td>\n",
       "      <td>6</td>\n",
       "      <td>10:35</td>\n",
       "      <td>Single carriageway</td>\n",
       "      <td>Daylight: Street light present</td>\n",
       "      <td>Fine without high winds</td>\n",
       "      <td>Dry</td>\n",
       "      <td>1</td>\n",
       "      <td>2005</td>\n",
       "    </tr>\n",
       "    <tr>\n",
       "      <th>4</th>\n",
       "      <td>3</td>\n",
       "      <td>1</td>\n",
       "      <td>1</td>\n",
       "      <td>2</td>\n",
       "      <td>21:13</td>\n",
       "      <td>Single carriageway</td>\n",
       "      <td>Darkness: Street lighting unknown</td>\n",
       "      <td>Fine without high winds</td>\n",
       "      <td>Wet/Damp</td>\n",
       "      <td>1</td>\n",
       "      <td>2005</td>\n",
       "    </tr>\n",
       "    <tr>\n",
       "      <th>...</th>\n",
       "      <td>...</td>\n",
       "      <td>...</td>\n",
       "      <td>...</td>\n",
       "      <td>...</td>\n",
       "      <td>...</td>\n",
       "      <td>...</td>\n",
       "      <td>...</td>\n",
       "      <td>...</td>\n",
       "      <td>...</td>\n",
       "      <td>...</td>\n",
       "      <td>...</td>\n",
       "    </tr>\n",
       "    <tr>\n",
       "      <th>464692</th>\n",
       "      <td>2</td>\n",
       "      <td>2</td>\n",
       "      <td>1</td>\n",
       "      <td>1</td>\n",
       "      <td>22:20</td>\n",
       "      <td>Dual carriageway</td>\n",
       "      <td>Darkeness: No street lighting</td>\n",
       "      <td>Snowing without high winds</td>\n",
       "      <td>Snow</td>\n",
       "      <td>2</td>\n",
       "      <td>2014</td>\n",
       "    </tr>\n",
       "    <tr>\n",
       "      <th>464693</th>\n",
       "      <td>3</td>\n",
       "      <td>2</td>\n",
       "      <td>2</td>\n",
       "      <td>5</td>\n",
       "      <td>06:40</td>\n",
       "      <td>Dual carriageway</td>\n",
       "      <td>Darkeness: No street lighting</td>\n",
       "      <td>Fine without high winds</td>\n",
       "      <td>Snow</td>\n",
       "      <td>2</td>\n",
       "      <td>2014</td>\n",
       "    </tr>\n",
       "    <tr>\n",
       "      <th>464694</th>\n",
       "      <td>3</td>\n",
       "      <td>1</td>\n",
       "      <td>1</td>\n",
       "      <td>3</td>\n",
       "      <td>02:00</td>\n",
       "      <td>Single carriageway</td>\n",
       "      <td>Darkness: Street lights present and lit</td>\n",
       "      <td>Fine without high winds</td>\n",
       "      <td>Frost/Ice</td>\n",
       "      <td>2</td>\n",
       "      <td>2014</td>\n",
       "    </tr>\n",
       "    <tr>\n",
       "      <th>464695</th>\n",
       "      <td>2</td>\n",
       "      <td>3</td>\n",
       "      <td>2</td>\n",
       "      <td>4</td>\n",
       "      <td>06:55</td>\n",
       "      <td>Single carriageway</td>\n",
       "      <td>Darkeness: No street lighting</td>\n",
       "      <td>Raining without high winds</td>\n",
       "      <td>Wet/Damp</td>\n",
       "      <td>2</td>\n",
       "      <td>2014</td>\n",
       "    </tr>\n",
       "    <tr>\n",
       "      <th>464696</th>\n",
       "      <td>3</td>\n",
       "      <td>2</td>\n",
       "      <td>2</td>\n",
       "      <td>4</td>\n",
       "      <td>15:00</td>\n",
       "      <td>Single carriageway</td>\n",
       "      <td>Daylight: Street light present</td>\n",
       "      <td>Fine without high winds</td>\n",
       "      <td>Wet/Damp</td>\n",
       "      <td>2</td>\n",
       "      <td>2014</td>\n",
       "    </tr>\n",
       "  </tbody>\n",
       "</table>\n",
       "<p>1501957 rows × 11 columns</p>\n",
       "</div>"
      ],
      "text/plain": [
       "        Accident_Severity  Number_of_Vehicles  Number_of_Casualties  \\\n",
       "0                       2                   1                     1   \n",
       "1                       3                   1                     1   \n",
       "2                       3                   2                     1   \n",
       "3                       3                   1                     1   \n",
       "4                       3                   1                     1   \n",
       "...                   ...                 ...                   ...   \n",
       "464692                  2                   2                     1   \n",
       "464693                  3                   2                     2   \n",
       "464694                  3                   1                     1   \n",
       "464695                  2                   3                     2   \n",
       "464696                  3                   2                     2   \n",
       "\n",
       "        Day_of_Week   Time           Road_Type  \\\n",
       "0                 3  17:42  Single carriageway   \n",
       "1                 4  17:36    Dual carriageway   \n",
       "2                 5  00:15  Single carriageway   \n",
       "3                 6  10:35  Single carriageway   \n",
       "4                 2  21:13  Single carriageway   \n",
       "...             ...    ...                 ...   \n",
       "464692            1  22:20    Dual carriageway   \n",
       "464693            5  06:40    Dual carriageway   \n",
       "464694            3  02:00  Single carriageway   \n",
       "464695            4  06:55  Single carriageway   \n",
       "464696            4  15:00  Single carriageway   \n",
       "\n",
       "                               Light_Conditions          Weather_Conditions  \\\n",
       "0                Daylight: Street light present  Raining without high winds   \n",
       "1       Darkness: Street lights present and lit     Fine without high winds   \n",
       "2       Darkness: Street lights present and lit     Fine without high winds   \n",
       "3                Daylight: Street light present     Fine without high winds   \n",
       "4             Darkness: Street lighting unknown     Fine without high winds   \n",
       "...                                         ...                         ...   \n",
       "464692            Darkeness: No street lighting  Snowing without high winds   \n",
       "464693            Darkeness: No street lighting     Fine without high winds   \n",
       "464694  Darkness: Street lights present and lit     Fine without high winds   \n",
       "464695            Darkeness: No street lighting  Raining without high winds   \n",
       "464696           Daylight: Street light present     Fine without high winds   \n",
       "\n",
       "       Road_Surface_Conditions  Urban_or_Rural_Area  Year  \n",
       "0                     Wet/Damp                    1  2005  \n",
       "1                          Dry                    1  2005  \n",
       "2                          Dry                    1  2005  \n",
       "3                          Dry                    1  2005  \n",
       "4                     Wet/Damp                    1  2005  \n",
       "...                        ...                  ...   ...  \n",
       "464692                    Snow                    2  2014  \n",
       "464693                    Snow                    2  2014  \n",
       "464694               Frost/Ice                    2  2014  \n",
       "464695                Wet/Damp                    2  2014  \n",
       "464696                Wet/Damp                    2  2014  \n",
       "\n",
       "[1501957 rows x 11 columns]"
      ]
     },
     "execution_count": 147,
     "metadata": {},
     "output_type": "execute_result"
    }
   ],
   "source": [
    "df"
   ]
  },
  {
   "cell_type": "markdown",
   "id": "6c64bd96",
   "metadata": {},
   "source": [
    "## Categorization"
   ]
  },
  {
   "cell_type": "code",
   "execution_count": 153,
   "id": "f7270bbd",
   "metadata": {},
   "outputs": [],
   "source": [
    "from pandas.api.types import is_string_dtype"
   ]
  },
  {
   "cell_type": "code",
   "execution_count": 156,
   "id": "f68c8a04",
   "metadata": {},
   "outputs": [],
   "source": [
    "def data_cat(df):\n",
    "    for n,c in df.items():\n",
    "        if is_string_dtype(c):\n",
    "            df[n] = c.astype(\"category\").cat.as_ordered()"
   ]
  },
  {
   "cell_type": "code",
   "execution_count": 175,
   "id": "05f4b4f4",
   "metadata": {},
   "outputs": [],
   "source": [
    "df.drop([\"Time\"], axis=1, inplace = True)"
   ]
  },
  {
   "cell_type": "code",
   "execution_count": 176,
   "id": "dc618b6f",
   "metadata": {},
   "outputs": [
    {
     "name": "stdout",
     "output_type": "stream",
     "text": [
      "<class 'pandas.core.frame.DataFrame'>\n",
      "Int64Index: 1501957 entries, 0 to 464696\n",
      "Data columns (total 10 columns):\n",
      " #   Column                   Non-Null Count    Dtype   \n",
      "---  ------                   --------------    -----   \n",
      " 0   Accident_Severity        1501957 non-null  int64   \n",
      " 1   Number_of_Vehicles       1501957 non-null  int64   \n",
      " 2   Number_of_Casualties     1501957 non-null  int64   \n",
      " 3   Day_of_Week              1501957 non-null  int64   \n",
      " 4   Road_Type                1501957 non-null  category\n",
      " 5   Light_Conditions         1501957 non-null  category\n",
      " 6   Weather_Conditions       1501957 non-null  category\n",
      " 7   Road_Surface_Conditions  1501957 non-null  category\n",
      " 8   Urban_or_Rural_Area      1501957 non-null  int64   \n",
      " 9   Year                     1501957 non-null  int64   \n",
      "dtypes: category(4), int64(6)\n",
      "memory usage: 85.9 MB\n"
     ]
    }
   ],
   "source": [
    "df.info()"
   ]
  },
  {
   "cell_type": "code",
   "execution_count": 182,
   "id": "2ed647b4",
   "metadata": {},
   "outputs": [
    {
     "data": {
      "text/plain": [
       "0          Wet/Damp\n",
       "1               Dry\n",
       "2               Dry\n",
       "3               Dry\n",
       "4          Wet/Damp\n",
       "            ...    \n",
       "464692         Snow\n",
       "464693         Snow\n",
       "464694    Frost/Ice\n",
       "464695     Wet/Damp\n",
       "464696     Wet/Damp\n",
       "Name: Road_Surface_Conditions, Length: 1501957, dtype: category\n",
       "Categories (5, object): ['Dry' < 'Flood (Over 3cm of water)' < 'Frost/Ice' < 'Snow' < 'Wet/Damp']"
      ]
     },
     "execution_count": 182,
     "metadata": {},
     "output_type": "execute_result"
    }
   ],
   "source": [
    "df[\"Road_Surface_Conditions\"]"
   ]
  },
  {
   "cell_type": "code",
   "execution_count": 203,
   "id": "b12d264c",
   "metadata": {},
   "outputs": [],
   "source": [
    "def apply_cats(df,train):\n",
    "    for n, c in df.items():\n",
    "        if train[n].dtype == \"category\":\n",
    "            df[n] = pd.Categorical(c, categories = train[n].cat.categories, order = True)"
   ]
  },
  {
   "cell_type": "code",
   "execution_count": 213,
   "id": "da826f99",
   "metadata": {},
   "outputs": [
    {
     "name": "stderr",
     "output_type": "stream",
     "text": [
      "/usr/lib/python3/dist-packages/pandas/core/arrays/categorical.py:2631: FutureWarning: The `inplace` parameter in pandas.Categorical.set_categories is deprecated and will be removed in a future version. Removing unused categories will always return a new Categorical object.\n",
      "  res = method(*args, **kwargs)\n"
     ]
    }
   ],
   "source": [
    "df[\"Road_Type\"].cat.set_categories([\n",
    "       'Dual carriageway',\n",
    "       'One way street',\n",
    "       'Roundabout',\n",
    "       'Single carriageway',\n",
    "       'Slip road',\n",
    "       'Unknown'], ordered = True, inplace = True)"
   ]
  },
  {
   "cell_type": "code",
   "execution_count": 214,
   "id": "612f3507",
   "metadata": {},
   "outputs": [],
   "source": [
    "df[\"Light_Conditions\"].cat.set_categories([\n",
    "       'Daylight: Street light present', \n",
    "       'Darkness: Street lights present and lit',\n",
    "       'Darkness: Street lights present but unlit',\n",
    "       'Darkness: Street lighting unknown',\n",
    "       'Darkeness: No street lighting'], ordered = True, inplace = True)"
   ]
  },
  {
   "cell_type": "code",
   "execution_count": 206,
   "id": "8cbc4553",
   "metadata": {},
   "outputs": [],
   "source": [
    "df[\"Weather_Conditions\"].cat.set_categories([\n",
    "       'Fine with high winds',\n",
    "       'Fine without high winds',\n",
    "       'Fog or mist',\n",
    "       'Raining without high winds',\n",
    "       'Snowing with high winds',\n",
    "       'Snowing without high winds',\n",
    "       'Other',\n",
    "       'Unknown'], ordered = True, inplace = True)"
   ]
  },
  {
   "cell_type": "code",
   "execution_count": 208,
   "id": "09ed45ff",
   "metadata": {},
   "outputs": [],
   "source": [
    "df[\"Road_Surface_Conditions\"].cat.set_categories([\n",
    "       'Dry',\n",
    "       'Wet/Damp'\n",
    "       'Flood (Over 3cm of water)',\n",
    "       'Snow'\n",
    "       'Frost/Ice'], ordered = True, inplace = True)"
   ]
  },
  {
   "cell_type": "code",
   "execution_count": 209,
   "id": "182bebe0",
   "metadata": {},
   "outputs": [
    {
     "data": {
      "text/plain": [
       "0         0\n",
       "1         1\n",
       "2         1\n",
       "3         0\n",
       "4         3\n",
       "         ..\n",
       "464692    4\n",
       "464693    4\n",
       "464694    1\n",
       "464695    4\n",
       "464696    0\n",
       "Length: 1501957, dtype: int8"
      ]
     },
     "execution_count": 209,
     "metadata": {},
     "output_type": "execute_result"
    }
   ],
   "source": [
    "df[\"Light_Conditions\"].cat.codes"
   ]
  },
  {
   "cell_type": "code",
   "execution_count": 210,
   "id": "0f88e49d",
   "metadata": {},
   "outputs": [
    {
     "data": {
      "text/html": [
       "<div>\n",
       "<style scoped>\n",
       "    .dataframe tbody tr th:only-of-type {\n",
       "        vertical-align: middle;\n",
       "    }\n",
       "\n",
       "    .dataframe tbody tr th {\n",
       "        vertical-align: top;\n",
       "    }\n",
       "\n",
       "    .dataframe thead th {\n",
       "        text-align: right;\n",
       "    }\n",
       "</style>\n",
       "<table border=\"1\" class=\"dataframe\">\n",
       "  <thead>\n",
       "    <tr style=\"text-align: right;\">\n",
       "      <th></th>\n",
       "      <th>Accident_Severity</th>\n",
       "      <th>Number_of_Vehicles</th>\n",
       "      <th>Number_of_Casualties</th>\n",
       "      <th>Day_of_Week</th>\n",
       "      <th>Road_Type</th>\n",
       "      <th>Light_Conditions</th>\n",
       "      <th>Weather_Conditions</th>\n",
       "      <th>Road_Surface_Conditions</th>\n",
       "      <th>Urban_or_Rural_Area</th>\n",
       "      <th>Year</th>\n",
       "    </tr>\n",
       "  </thead>\n",
       "  <tbody>\n",
       "    <tr>\n",
       "      <th>0</th>\n",
       "      <td>2</td>\n",
       "      <td>1</td>\n",
       "      <td>1</td>\n",
       "      <td>3</td>\n",
       "      <td>Single carriageway</td>\n",
       "      <td>Daylight: Street light present</td>\n",
       "      <td>Raining without high winds</td>\n",
       "      <td>NaN</td>\n",
       "      <td>1</td>\n",
       "      <td>2005</td>\n",
       "    </tr>\n",
       "    <tr>\n",
       "      <th>1</th>\n",
       "      <td>3</td>\n",
       "      <td>1</td>\n",
       "      <td>1</td>\n",
       "      <td>4</td>\n",
       "      <td>Dual carriageway</td>\n",
       "      <td>Darkness: Street lights present and lit</td>\n",
       "      <td>Fine without high winds</td>\n",
       "      <td>Dry</td>\n",
       "      <td>1</td>\n",
       "      <td>2005</td>\n",
       "    </tr>\n",
       "    <tr>\n",
       "      <th>2</th>\n",
       "      <td>3</td>\n",
       "      <td>2</td>\n",
       "      <td>1</td>\n",
       "      <td>5</td>\n",
       "      <td>Single carriageway</td>\n",
       "      <td>Darkness: Street lights present and lit</td>\n",
       "      <td>Fine without high winds</td>\n",
       "      <td>Dry</td>\n",
       "      <td>1</td>\n",
       "      <td>2005</td>\n",
       "    </tr>\n",
       "    <tr>\n",
       "      <th>3</th>\n",
       "      <td>3</td>\n",
       "      <td>1</td>\n",
       "      <td>1</td>\n",
       "      <td>6</td>\n",
       "      <td>Single carriageway</td>\n",
       "      <td>Daylight: Street light present</td>\n",
       "      <td>Fine without high winds</td>\n",
       "      <td>Dry</td>\n",
       "      <td>1</td>\n",
       "      <td>2005</td>\n",
       "    </tr>\n",
       "    <tr>\n",
       "      <th>4</th>\n",
       "      <td>3</td>\n",
       "      <td>1</td>\n",
       "      <td>1</td>\n",
       "      <td>2</td>\n",
       "      <td>Single carriageway</td>\n",
       "      <td>Darkness: Street lighting unknown</td>\n",
       "      <td>Fine without high winds</td>\n",
       "      <td>NaN</td>\n",
       "      <td>1</td>\n",
       "      <td>2005</td>\n",
       "    </tr>\n",
       "  </tbody>\n",
       "</table>\n",
       "</div>"
      ],
      "text/plain": [
       "   Accident_Severity  Number_of_Vehicles  Number_of_Casualties  Day_of_Week  \\\n",
       "0                  2                   1                     1            3   \n",
       "1                  3                   1                     1            4   \n",
       "2                  3                   2                     1            5   \n",
       "3                  3                   1                     1            6   \n",
       "4                  3                   1                     1            2   \n",
       "\n",
       "            Road_Type                         Light_Conditions  \\\n",
       "0  Single carriageway           Daylight: Street light present   \n",
       "1    Dual carriageway  Darkness: Street lights present and lit   \n",
       "2  Single carriageway  Darkness: Street lights present and lit   \n",
       "3  Single carriageway           Daylight: Street light present   \n",
       "4  Single carriageway        Darkness: Street lighting unknown   \n",
       "\n",
       "           Weather_Conditions Road_Surface_Conditions  Urban_or_Rural_Area  \\\n",
       "0  Raining without high winds                     NaN                    1   \n",
       "1     Fine without high winds                     Dry                    1   \n",
       "2     Fine without high winds                     Dry                    1   \n",
       "3     Fine without high winds                     Dry                    1   \n",
       "4     Fine without high winds                     NaN                    1   \n",
       "\n",
       "   Year  \n",
       "0  2005  \n",
       "1  2005  \n",
       "2  2005  \n",
       "3  2005  \n",
       "4  2005  "
      ]
     },
     "execution_count": 210,
     "metadata": {},
     "output_type": "execute_result"
    }
   ],
   "source": [
    "df.head()"
   ]
  },
  {
   "cell_type": "code",
   "execution_count": 240,
   "id": "1b70087b",
   "metadata": {},
   "outputs": [
    {
     "data": {
      "text/html": [
       "<div>\n",
       "<style scoped>\n",
       "    .dataframe tbody tr th:only-of-type {\n",
       "        vertical-align: middle;\n",
       "    }\n",
       "\n",
       "    .dataframe tbody tr th {\n",
       "        vertical-align: top;\n",
       "    }\n",
       "\n",
       "    .dataframe thead th {\n",
       "        text-align: right;\n",
       "    }\n",
       "</style>\n",
       "<table border=\"1\" class=\"dataframe\">\n",
       "  <thead>\n",
       "    <tr style=\"text-align: right;\">\n",
       "      <th></th>\n",
       "      <th>Accident_Severity</th>\n",
       "      <th>Number_of_Vehicles</th>\n",
       "      <th>Number_of_Casualties</th>\n",
       "      <th>Day_of_Week</th>\n",
       "      <th>Road_Type</th>\n",
       "      <th>Light_Conditions</th>\n",
       "      <th>Weather_Conditions</th>\n",
       "      <th>Road_Surface_Conditions</th>\n",
       "      <th>Urban_or_Rural_Area</th>\n",
       "      <th>Year</th>\n",
       "    </tr>\n",
       "  </thead>\n",
       "  <tbody>\n",
       "    <tr>\n",
       "      <th>0</th>\n",
       "      <td>2</td>\n",
       "      <td>1</td>\n",
       "      <td>1</td>\n",
       "      <td>3</td>\n",
       "      <td>4</td>\n",
       "      <td>1</td>\n",
       "      <td>4</td>\n",
       "      <td>0</td>\n",
       "      <td>1</td>\n",
       "      <td>2005</td>\n",
       "    </tr>\n",
       "    <tr>\n",
       "      <th>1</th>\n",
       "      <td>3</td>\n",
       "      <td>1</td>\n",
       "      <td>1</td>\n",
       "      <td>4</td>\n",
       "      <td>1</td>\n",
       "      <td>2</td>\n",
       "      <td>2</td>\n",
       "      <td>1</td>\n",
       "      <td>1</td>\n",
       "      <td>2005</td>\n",
       "    </tr>\n",
       "    <tr>\n",
       "      <th>2</th>\n",
       "      <td>3</td>\n",
       "      <td>2</td>\n",
       "      <td>1</td>\n",
       "      <td>5</td>\n",
       "      <td>4</td>\n",
       "      <td>2</td>\n",
       "      <td>2</td>\n",
       "      <td>1</td>\n",
       "      <td>1</td>\n",
       "      <td>2005</td>\n",
       "    </tr>\n",
       "    <tr>\n",
       "      <th>3</th>\n",
       "      <td>3</td>\n",
       "      <td>1</td>\n",
       "      <td>1</td>\n",
       "      <td>6</td>\n",
       "      <td>4</td>\n",
       "      <td>1</td>\n",
       "      <td>2</td>\n",
       "      <td>1</td>\n",
       "      <td>1</td>\n",
       "      <td>2005</td>\n",
       "    </tr>\n",
       "    <tr>\n",
       "      <th>4</th>\n",
       "      <td>3</td>\n",
       "      <td>1</td>\n",
       "      <td>1</td>\n",
       "      <td>2</td>\n",
       "      <td>4</td>\n",
       "      <td>4</td>\n",
       "      <td>2</td>\n",
       "      <td>0</td>\n",
       "      <td>1</td>\n",
       "      <td>2005</td>\n",
       "    </tr>\n",
       "  </tbody>\n",
       "</table>\n",
       "</div>"
      ],
      "text/plain": [
       "   Accident_Severity  Number_of_Vehicles  Number_of_Casualties  Day_of_Week  \\\n",
       "0                  2                   1                     1            3   \n",
       "1                  3                   1                     1            4   \n",
       "2                  3                   2                     1            5   \n",
       "3                  3                   1                     1            6   \n",
       "4                  3                   1                     1            2   \n",
       "\n",
       "   Road_Type  Light_Conditions  Weather_Conditions  Road_Surface_Conditions  \\\n",
       "0          4                 1                   4                        0   \n",
       "1          1                 2                   2                        1   \n",
       "2          4                 2                   2                        1   \n",
       "3          4                 1                   2                        1   \n",
       "4          4                 4                   2                        0   \n",
       "\n",
       "   Urban_or_Rural_Area  Year  \n",
       "0                    1  2005  \n",
       "1                    1  2005  \n",
       "2                    1  2005  \n",
       "3                    1  2005  \n",
       "4                    1  2005  "
      ]
     },
     "execution_count": 240,
     "metadata": {},
     "output_type": "execute_result"
    }
   ],
   "source": [
    "data_rep = df.copy()\n",
    "data_rep[\"Light_Conditions\"] = df[\"Light_Conditions\"].cat.codes +1\n",
    "data_rep[\"Weather_Conditions\"] = df[\"Weather_Conditions\"].cat.codes +1\n",
    "data_rep[\"Road_Type\"] = df[\"Road_Type\"].cat.codes +1\n",
    "data_rep[\"Road_Surface_Conditions\"] = df[\"Road_Surface_Conditions\"].cat.codes +1 \n",
    "data_rep.head()"
   ]
  },
  {
   "cell_type": "code",
   "execution_count": 241,
   "id": "71818be7",
   "metadata": {},
   "outputs": [
    {
     "data": {
      "text/plain": [
       "(1501957, 10)"
      ]
     },
     "execution_count": 241,
     "metadata": {},
     "output_type": "execute_result"
    }
   ],
   "source": [
    "data_rep.shape"
   ]
  },
  {
   "cell_type": "code",
   "execution_count": 256,
   "id": "b2395af6",
   "metadata": {},
   "outputs": [],
   "source": [
    "X = data_rep.drop([\"Accident_Severity\"],axis=1).values\n",
    "y = data_rep[\"Accident_Severity\"].values"
   ]
  },
  {
   "cell_type": "code",
   "execution_count": 257,
   "id": "c920b887",
   "metadata": {},
   "outputs": [],
   "source": [
    "from sklearn.model_selection import train_test_split\n",
    "    \n",
    "X_train, X_test, y_train, y_test = train_test_split(X,y, test_size = 0.25, random_state =0)\n"
   ]
  },
  {
   "cell_type": "markdown",
   "id": "7a2b7e89",
   "metadata": {},
   "source": [
    "## Random Forest Regresssion"
   ]
  },
  {
   "cell_type": "code",
   "execution_count": 258,
   "id": "8775fb20",
   "metadata": {},
   "outputs": [],
   "source": [
    "from sklearn.preprocessing import StandardScaler\n",
    "sc = StandardScaler()\n",
    "X_train = sc.fit_transform(X_train)\n",
    "X_test = sc.fit_transform(X_test)"
   ]
  },
  {
   "cell_type": "code",
   "execution_count": 259,
   "id": "7f7abfe7",
   "metadata": {},
   "outputs": [
    {
     "name": "stdout",
     "output_type": "stream",
     "text": [
      "Run time :  336.9258027076721\n"
     ]
    }
   ],
   "source": [
    "from sklearn.ensemble import RandomForestRegressor\n",
    "from sklearn.metrics import mean_squared_error\n",
    "from math import sqrt\n",
    "import time\n",
    "\n",
    "start_time = time.time()\n",
    "\n",
    "rf = RandomForestRegressor(n_estimators=150)\n",
    "rf.fit(X_train, y_train)\n",
    "y_pred = rf.predict(X_test)\n",
    "\n",
    "trs = rf.score(X_train, y_train)\n",
    "ts = rf.score(X_test, y_test)\n",
    "rmse = sqrt(mean_squared_error(y_test, y_pred))\n",
    "\n",
    "end_time = time.time()\n",
    "\n",
    "print(\"Run time : \", end_time-start_time)"
   ]
  },
  {
   "cell_type": "code",
   "execution_count": 260,
   "id": "cb388c0d",
   "metadata": {},
   "outputs": [
    {
     "name": "stdout",
     "output_type": "stream",
     "text": [
      "training score : 0.12777212118724968\n",
      "test score : 0.0010141234372468277\n",
      "root mean squared error : 0.40176409050151357\n"
     ]
    }
   ],
   "source": [
    "print(\"training score :\", trs)\n",
    "print(\"test score :\" , ts)\n",
    "print(\"root mean squared error :\", rmse)"
   ]
  },
  {
   "cell_type": "code",
   "execution_count": null,
   "id": "7a3e505b",
   "metadata": {},
   "outputs": [],
   "source": []
  }
 ],
 "metadata": {
  "kernelspec": {
   "display_name": "Python 3 (ipykernel)",
   "language": "python",
   "name": "python3"
  },
  "language_info": {
   "codemirror_mode": {
    "name": "ipython",
    "version": 3
   },
   "file_extension": ".py",
   "mimetype": "text/x-python",
   "name": "python",
   "nbconvert_exporter": "python",
   "pygments_lexer": "ipython3",
   "version": "3.10.6"
  }
 },
 "nbformat": 4,
 "nbformat_minor": 5
}
